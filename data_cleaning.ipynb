{
 "cells": [
  {
   "cell_type": "code",
   "execution_count": 1,
   "id": "babf3b2e",
   "metadata": {},
   "outputs": [],
   "source": [
    "import pandas as pd"
   ]
  },
  {
   "cell_type": "code",
   "execution_count": 3,
   "id": "27a99c2e",
   "metadata": {},
   "outputs": [
    {
     "name": "stdout",
     "output_type": "stream",
     "text": [
      "Files to be merged:\n",
      "Friday-WorkingHours-Afternoon-DDos.pcap_ISCX.csv\n",
      "Friday-WorkingHours-Afternoon-PortScan.pcap_ISCX.csv\n",
      "Friday-WorkingHours-Morning.pcap_ISCX.csv\n",
      "Monday-WorkingHours.pcap_ISCX.csv\n",
      "Thursday-WorkingHours-Afternoon-Infilteration.pcap_ISCX.csv\n",
      "Thursday-WorkingHours-Morning-WebAttacks.pcap_ISCX.csv\n",
      "Tuesday-WorkingHours.pcap_ISCX.csv\n",
      "Wednesday-workingHours.pcap_ISCX.csv\n",
      "\n",
      "✅ Successfully combined 8 files into 'combined_output.csv'\n"
     ]
    }
   ],
   "source": [
    "import pandas as pd\n",
    "import glob\n",
    "\n",
    "# Step 1: Find all the csv files in the current folder\n",
    "# The star (*) is a wildcard that matches any text.\n",
    "all_files = glob.glob(\"*.csv\")\n",
    "\n",
    "# Optional: Print the files that have been found\n",
    "print(\"Files to be merged:\")\n",
    "for f in all_files:\n",
    "    print(f)\n",
    "\n",
    "# Step 2: Read and combine all found CSV files\n",
    "# This creates a list of DataFrames, one for each file, then concatenates them.\n",
    "combined_df = pd.concat([pd.read_csv(f) for f in all_files], ignore_index=True)\n",
    "\n",
    "# Step 3: Save the combined data to a new CSV file\n",
    "# 'index=False' prevents pandas from writing a new index column to your file.\n",
    "combined_df.to_csv(\"combined_output.csv\", index=False)\n",
    "\n",
    "print(\"\\n✅ Successfully combined\", len(all_files), \"files into 'combined_output.csv'\")"
   ]
  }
 ],
 "metadata": {
  "kernelspec": {
   "display_name": "Python 3",
   "language": "python",
   "name": "python3"
  },
  "language_info": {
   "codemirror_mode": {
    "name": "ipython",
    "version": 3
   },
   "file_extension": ".py",
   "mimetype": "text/x-python",
   "name": "python",
   "nbconvert_exporter": "python",
   "pygments_lexer": "ipython3",
   "version": "3.12.4"
  }
 },
 "nbformat": 4,
 "nbformat_minor": 5
}
